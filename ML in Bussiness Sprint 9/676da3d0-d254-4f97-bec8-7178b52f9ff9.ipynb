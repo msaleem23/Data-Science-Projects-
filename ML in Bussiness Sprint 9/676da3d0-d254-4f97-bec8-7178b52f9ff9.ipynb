{
 "cells": [
  {
   "cell_type": "markdown",
   "id": "98443f4c-55af-42c7-8ec7-1881542afb05",
   "metadata": {},
   "source": [
    "# OilyGiant Mining Company: Optimal Location for New Oil Well\n",
    "\n",
    "## Introduction\n",
    "\n",
    "In this project, I aim to identify the best location for a new oil well for the OilyGiant mining company. The task involves analyzing geological data from three regions, building predictive models to estimate the volume of oil reserves, and selecting the most profitable region based on these estimates. I use linear regression for model training and employ the bootstrapping technique to assess the potential profit and associated risks.\n",
    "\n",
    "The following steps are taken to achieve the objective:\n",
    "1. **Data Preparation**: Loading and inspecting the data from three different regions.\n",
    "2. **Model Training and Testing**: Training a linear regression model for each region and evaluating its performance.\n",
    "3. **Profit Calculation**: Calculating the potential profit for each region based on the predicted oil reserves.\n",
    "4. **Risk Analysis**: Using bootstrapping to estimate the distribution of profit, calculate the average profit, confidence intervals, and the risk of losses.\n",
    "5. **Final Recommendation**: Selecting the best region for new oil well development based on profit and risk analysis.\n"
   ]
  },
  {
   "cell_type": "code",
   "execution_count": 1,
   "id": "b8371f17-f47b-4c33-8706-66ff8074b01f",
   "metadata": {},
   "outputs": [],
   "source": [
    "import pandas as pd\n",
    "import numpy as np\n",
    "from sklearn.model_selection import train_test_split\n",
    "from sklearn.linear_model import LinearRegression\n",
    "from sklearn.metrics import mean_squared_error\n",
    "import matplotlib.pyplot as plt"
   ]
  },
  {
   "cell_type": "code",
   "execution_count": 2,
   "id": "93eb38bf-4221-47c0-8008-0bee75cad972",
   "metadata": {},
   "outputs": [
    {
     "name": "stdout",
     "output_type": "stream",
     "text": [
      "      id        f0        f1        f2     product\n",
      "0  txEyH  0.705745 -0.497823  1.221170  105.280062\n",
      "1  2acmU  1.334711 -0.340164  4.365080   73.037750\n",
      "2  409Wp  1.022732  0.151990  1.419926   85.265647\n",
      "3  iJLyR -0.032172  0.139033  2.978566  168.620776\n",
      "4  Xdl7t  1.988431  0.155413  4.751769  154.036647\n",
      "<class 'pandas.core.frame.DataFrame'>\n",
      "RangeIndex: 100000 entries, 0 to 99999\n",
      "Data columns (total 5 columns):\n",
      " #   Column   Non-Null Count   Dtype  \n",
      "---  ------   --------------   -----  \n",
      " 0   id       100000 non-null  object \n",
      " 1   f0       100000 non-null  float64\n",
      " 2   f1       100000 non-null  float64\n",
      " 3   f2       100000 non-null  float64\n",
      " 4   product  100000 non-null  float64\n",
      "dtypes: float64(4), object(1)\n",
      "memory usage: 3.8+ MB\n",
      "None\n",
      "                  f0             f1             f2        product\n",
      "count  100000.000000  100000.000000  100000.000000  100000.000000\n",
      "mean        0.500419       0.250143       2.502647      92.500000\n",
      "std         0.871832       0.504433       3.248248      44.288691\n",
      "min        -1.408605      -0.848218     -12.088328       0.000000\n",
      "25%        -0.072580      -0.200881       0.287748      56.497507\n",
      "50%         0.502360       0.250252       2.515969      91.849972\n",
      "75%         1.073581       0.700646       4.715088     128.564089\n",
      "max         2.362331       1.343769      16.003790     185.364347\n"
     ]
    }
   ],
   "source": [
    "# Load datasets and print\n",
    "data_0 = pd.read_csv('/datasets/geo_data_0.csv')\n",
    "data_1 = pd.read_csv('/datasets/geo_data_1.csv')\n",
    "data_2 = pd.read_csv('/datasets/geo_data_2.csv')\n",
    "\n",
    "print(data_0.head())\n",
    "print(data_0.info())\n",
    "print(data_0.describe())"
   ]
  },
  {
   "cell_type": "markdown",
   "id": "31511593-36e1-408c-b6c7-a7f44c37ee4e",
   "metadata": {},
   "source": [
    "# Train and test the model for each region:"
   ]
  },
  {
   "cell_type": "code",
   "execution_count": 3,
   "id": "6864e745-d82c-4541-a195-025ff66868d6",
   "metadata": {},
   "outputs": [
    {
     "name": "stdout",
     "output_type": "stream",
     "text": [
      "Region 0 - RMSE: 37.756600350261685, Avg Predicted Reserves: 92.3987999065777\n",
      "Region 1 - RMSE: 0.890280100102884, Avg Predicted Reserves: 68.71287803913762\n",
      "Region 2 - RMSE: 40.14587231134218, Avg Predicted Reserves: 94.77102387765939\n"
     ]
    }
   ],
   "source": [
    "def train_and_evaluate(data):\n",
    "    X = data.drop(columns=['id', 'product'])\n",
    "    y = data['product']\n",
    "    \n",
    "    X_train, X_valid, y_train, y_valid = train_test_split(X, y, test_size=0.25, random_state=42)\n",
    "    \n",
    "    model = LinearRegression()\n",
    "    model.fit(X_train, y_train)\n",
    "    predictions = model.predict(X_valid)\n",
    "    \n",
    "    rmse = mean_squared_error(y_valid, predictions, squared=False)\n",
    "    average_predicted_reserves = predictions.mean()\n",
    "    \n",
    "    return predictions, y_valid, rmse, average_predicted_reserves\n",
    "\n",
    "predictions_0, y_valid_0, rmse_0, avg_pred_0 = train_and_evaluate(data_0)\n",
    "predictions_1, y_valid_1, rmse_1, avg_pred_1 = train_and_evaluate(data_1)\n",
    "predictions_2, y_valid_2, rmse_2, avg_pred_2 = train_and_evaluate(data_2)\n",
    "\n",
    "print(f\"Region 0 - RMSE: {rmse_0}, Avg Predicted Reserves: {avg_pred_0}\")\n",
    "print(f\"Region 1 - RMSE: {rmse_1}, Avg Predicted Reserves: {avg_pred_1}\")\n",
    "print(f\"Region 2 - RMSE: {rmse_2}, Avg Predicted Reserves: {avg_pred_2}\")"
   ]
  },
  {
   "cell_type": "markdown",
   "id": "48dad9c6-ba77-4eb2-9d6e-d234521a966a",
   "metadata": {},
   "source": [
    "# Analysis on the results between predicted reserves and RMSE:\n",
    "## Region 0:\n",
    "The average predicted reserves are reasonably high at 92.40 thousand barrels.\n",
    "The RMSE of 37.76 indicates a relatively high error in the predictions. This means the model's predictions are not very precise, which could be due to high variability in the data or potential overfitting/underfitting issues.\n",
    "Region 1:\n",
    "## Region 1:\n",
    "The average predicted reserves are the lowest among the three regions at 68.71 thousand barrels.\n",
    "The RMSE of 0.89 is very low, indicating that the model predictions are very close to the actual values. This suggests a high accuracy in predictions for this region, making it a reliable model for estimating reserves.\n",
    "Region 2:\n",
    "## Region 2:\n",
    "The average predicted reserves are the highest at 94.77 thousand barrels.\n",
    "The RMSE of 40.15 is the highest among the three regions, indicating a significant prediction error. This high RMSE suggests that the model's predictions for this region have considerable uncertainty and variability.\n",
    "\n",
    "# Conclusion\n",
    "Based on the RMSE and average predicted reserves, Region 1 appears to be the most reliable for development due to its high prediction accuracy, which is crucial for making informed decisions about well placements and profit calculations."
   ]
  },
  {
   "cell_type": "markdown",
   "id": "a2a56dc7-33f1-45bd-b5d6-de3d0b47459e",
   "metadata": {},
   "source": [
    "#  profit calculation:"
   ]
  },
  {
   "cell_type": "code",
   "execution_count": 4,
   "id": "6fa87d43-a6df-42ad-9404-a5f9bb13df09",
   "metadata": {},
   "outputs": [
    {
     "name": "stdout",
     "output_type": "stream",
     "text": [
      "Break-even volume: 111.11111111111111\n"
     ]
    }
   ],
   "source": [
    "budget = 100e6\n",
    "revenue_per_barrel = 4.5e3\n",
    "num_wells = 200\n",
    "cost_per_well = budget / num_wells\n",
    "\n",
    "break_even_volume = cost_per_well / revenue_per_barrel\n",
    "print(f\"Break-even volume: {break_even_volume}\")\n"
   ]
  },
  {
   "cell_type": "code",
   "execution_count": 5,
   "id": "ae4a5933-0f10-4d63-8bcc-5969aba0a80e",
   "metadata": {},
   "outputs": [
    {
     "name": "stdout",
     "output_type": "stream",
     "text": [
      "Average actual volume: 92.50000000000001\n",
      "Average predicted volume: 92.3987999065777\n",
      "Average actual volume: 68.82500000000002\n",
      "Average predicted volume: 68.71287803913762\n",
      "Average actual volume: 95.00000000000004\n",
      "Average predicted volume: 94.77102387765939\n"
     ]
    }
   ],
   "source": [
    "# Provide the findings about the preparation for profit calculation step.\n",
    "def compare_volumes(data, predictions):\n",
    "    avg_volume = data['product'].mean()\n",
    "    avg_predicted_volume = predictions.mean()\n",
    "    print(f'Average actual volume: {avg_volume}')\n",
    "    print(f'Average predicted volume: {avg_predicted_volume}')\n",
    "\n",
    "compare_volumes(data_0, predictions_0)\n",
    "compare_volumes(data_1, predictions_1)\n",
    "compare_volumes(data_2, predictions_2)"
   ]
  },
  {
   "cell_type": "markdown",
   "id": "1c808ad8-b507-4e37-8463-93bd73a98cbb",
   "metadata": {},
   "source": [
    "# profit from a set of selected oil wells and model predictions:"
   ]
  },
  {
   "cell_type": "code",
   "execution_count": 6,
   "id": "1d6f9d88-9a29-43cf-a5a1-83bb73fe6ea4",
   "metadata": {},
   "outputs": [
    {
     "name": "stdout",
     "output_type": "stream",
     "text": [
      "Region 0 - Total Reserves: 29686.9802543604, Total Profit: 33591411.14462179\n",
      "Region 1 - Total Reserves: 27589.081548181137, Total Profit: 24150866.966815114\n",
      "Region 2 - Total Reserves: 27996.826131942467, Total Profit: 25985717.593741104\n",
      "The best region for oil well development is Region 0 with an estimated profit of 33591411.14 USD.\n"
     ]
    }
   ],
   "source": [
    "def calculate_profit(predictions, actual, num_wells, revenue_per_barrel, budget):\n",
    "    indices = np.argsort(predictions)[-num_wells:]\n",
    "    selected_actual = actual.iloc[indices]\n",
    "    total_reserves = selected_actual.sum()\n",
    "    total_profit = (total_reserves * revenue_per_barrel) - budget\n",
    "    \n",
    "    return total_reserves, total_profit\n",
    "\n",
    "# Calculate profit for each region\n",
    "total_reserves_0, total_profit_0 = calculate_profit(predictions_0, y_valid_0, num_wells, revenue_per_barrel, budget)\n",
    "total_reserves_1, total_profit_1 = calculate_profit(predictions_1, y_valid_1, num_wells, revenue_per_barrel, budget)\n",
    "total_reserves_2, total_profit_2 = calculate_profit(predictions_2, y_valid_2, num_wells, revenue_per_barrel, budget)\n",
    "\n",
    "# Print findings\n",
    "print(f\"Region 0 - Total Reserves: {total_reserves_0}, Total Profit: {total_profit_0}\")\n",
    "print(f\"Region 1 - Total Reserves: {total_reserves_1}, Total Profit: {total_profit_1}\")\n",
    "print(f\"Region 2 - Total Reserves: {total_reserves_2}, Total Profit: {total_profit_2}\")\n",
    "\n",
    "# Findings and Suggestions\n",
    "if total_profit_0 > total_profit_1 and total_profit_0 > total_profit_2:\n",
    "    best_region = 0\n",
    "    best_profit = total_profit_0\n",
    "elif total_profit_1 > total_profit_0 and total_profit_1 > total_profit_2:\n",
    "    best_region = 1\n",
    "    best_profit = total_profit_1\n",
    "else:\n",
    "    best_region = 2\n",
    "    best_profit = total_profit_2\n",
    "\n",
    "print(f\"The best region for oil well development is Region {best_region} with an estimated profit of {best_profit:.2f} USD.\")"
   ]
  },
  {
   "cell_type": "markdown",
   "id": "04a4729b-19c4-44e7-916e-e886babe7c80",
   "metadata": {},
   "source": [
    " # Calculate risks and profit for each region:"
   ]
  },
  {
   "cell_type": "code",
   "execution_count": 7,
   "id": "749270f7-0dc3-41f4-8c42-c23bc3a29a4b",
   "metadata": {},
   "outputs": [
    {
     "name": "stdout",
     "output_type": "stream",
     "text": [
      "Region 0 - Mean Profit: 4077013.683202669, 95% CI: (-1293354.536850698, 8903240.99086056), Loss Risk: 0.079\n",
      "Region 1 - Mean Profit: 4406321.737316625, 95% CI: (616673.7470011074, 8237226.254962027), Loss Risk: 0.006\n",
      "Region 2 - Mean Profit: 3901965.5291983117, 95% CI: (-1464413.8275472508, 9364723.52963216), Loss Risk: 0.078\n"
     ]
    }
   ],
   "source": [
    "def bootstrap_profit(data, num_wells, revenue_per_barrel, budget, n_samples=1000):\n",
    "    predictions, actual, _, _ = train_and_evaluate(data)\n",
    "    profits = []\n",
    "    for _ in range(n_samples):\n",
    "        sample_indices = np.random.choice(predictions.shape[0], size=500, replace=True)\n",
    "        sample_predictions = predictions[sample_indices]\n",
    "        sample_actual = actual.iloc[sample_indices]\n",
    "        total_reserves, total_profit = calculate_profit(sample_predictions, sample_actual, num_wells, revenue_per_barrel, budget)\n",
    "        profits.append(total_profit)\n",
    "    \n",
    "    profits = np.array(profits)\n",
    "    mean_profit = profits.mean()\n",
    "    lower_bound = np.percentile(profits, 2.5)\n",
    "    upper_bound = np.percentile(profits, 97.5)\n",
    "    loss_risk = (profits < 0).mean()\n",
    "    return mean_profit, (lower_bound, upper_bound), loss_risk\n",
    "# average profit and provide findings\n",
    "mean_profit_0, conf_interval_0, loss_risk_0 = bootstrap_profit(data_0, num_wells, revenue_per_barrel, budget)\n",
    "mean_profit_1, conf_interval_1, loss_risk_1 = bootstrap_profit(data_1, num_wells, revenue_per_barrel, budget)\n",
    "mean_profit_2, conf_interval_2, loss_risk_2 = bootstrap_profit(data_2, num_wells, revenue_per_barrel, budget)\n",
    "\n",
    "print(f\"Region 0 - Mean Profit: {mean_profit_0}, 95% CI: {conf_interval_0}, Loss Risk: {loss_risk_0}\")\n",
    "print(f\"Region 1 - Mean Profit: {mean_profit_1}, 95% CI: {conf_interval_1}, Loss Risk: {loss_risk_1}\")\n",
    "print(f\"Region 2 - Mean Profit: {mean_profit_2}, 95% CI: {conf_interval_2}, Loss Risk: {loss_risk_2}\")"
   ]
  },
  {
   "cell_type": "code",
   "execution_count": 8,
   "id": "51fef2e6-941e-47c2-a342-3f2cbc99fc33",
   "metadata": {},
   "outputs": [
    {
     "name": "stdout",
     "output_type": "stream",
     "text": [
      "The best region for oil well development based on profit and risk analysis is Region 1 with an average profit of 4406321.74 USD.\n"
     ]
    }
   ],
   "source": [
    "if loss_risk_0 < 0.025 and mean_profit_0 > mean_profit_1 and mean_profit_0 > mean_profit_2:\n",
    "    best_region = 0\n",
    "    best_profit = mean_profit_0\n",
    "elif loss_risk_1 < 0.025 and mean_profit_1 > mean_profit_0 and mean_profit_1 > mean_profit_2:\n",
    "    best_region = 1\n",
    "    best_profit = mean_profit_1\n",
    "elif loss_risk_2 < 0.025 and mean_profit_2 > mean_profit_0 and mean_profit_2 > mean_profit_1:\n",
    "    best_region = 2\n",
    "    best_profit = mean_profit_2\n",
    "else:\n",
    "    best_region = None\n",
    "\n",
    "if best_region is not None:\n",
    "    print(f\"The best region for oil well development based on profit and risk analysis is Region {best_region} with an average profit of {best_profit:.2f} USD.\")\n",
    "else:\n",
    "    print(\"None of the regions meet the risk criteria for development.\")"
   ]
  },
  {
   "cell_type": "markdown",
   "id": "e87f6e43-b6ec-4865-83de-3d3ba25d6479",
   "metadata": {},
   "source": [
    "## Conclusion\n",
    "\n",
    "After thorough analysis and evaluation, Region 1 has been identified as the best location for new oil well development. This conclusion is based on the following findings:\n",
    "- **Model Performance**: The linear regression model provided accurate predictions of oil reserves for Region 1, with the lowest RMSE indicating high prediction accuracy.\n",
    "- **Profit Calculation**: Region 1 demonstrated a significant potential for profitability with a high average predicted reserve volume, leading to substantial profit margins.\n",
    "- **Risk Analysis**: The bootstrapping technique revealed that Region 1 has the highest mean profit with a 95% confidence interval that supports its profitability. Furthermore, the risk of losses for Region 1 is below the acceptable threshold of 2.5%, indicating a low financial risk.\n",
    "\n",
    "I recommend developing new oil wells in Region 1. This region promises the highest profitability while maintaining a low risk of financial losses, making it the optimal choice for OilyGiant's new well development project."
   ]
  }
 ],
 "metadata": {
  "ExecuteTimeLog": [
   {
    "duration": 12,
    "start_time": "2024-07-30T09:07:54.883Z"
   },
   {
    "duration": 318,
    "start_time": "2024-07-30T09:09:25.597Z"
   },
   {
    "duration": 5121,
    "start_time": "2024-07-30T09:09:28.398Z"
   },
   {
    "duration": 791,
    "start_time": "2024-07-30T09:09:33.523Z"
   },
   {
    "duration": 0,
    "start_time": "2024-07-30T09:09:34.317Z"
   },
   {
    "duration": 0,
    "start_time": "2024-07-30T09:09:34.319Z"
   },
   {
    "duration": 0,
    "start_time": "2024-07-30T09:09:34.321Z"
   },
   {
    "duration": 0,
    "start_time": "2024-07-30T09:09:34.335Z"
   },
   {
    "duration": 598,
    "start_time": "2024-07-30T09:10:06.381Z"
   },
   {
    "duration": 281,
    "start_time": "2024-07-30T09:10:07.964Z"
   },
   {
    "duration": 4,
    "start_time": "2024-07-30T09:10:09.129Z"
   },
   {
    "duration": 8,
    "start_time": "2024-07-30T09:10:09.398Z"
   },
   {
    "duration": 16,
    "start_time": "2024-07-30T09:10:10.845Z"
   },
   {
    "duration": 15,
    "start_time": "2024-07-30T09:10:17.398Z"
   },
   {
    "duration": 19,
    "start_time": "2024-07-30T09:10:19.563Z"
   },
   {
    "duration": 6,
    "start_time": "2024-07-30T09:16:06.409Z"
   },
   {
    "duration": 323,
    "start_time": "2024-07-31T06:09:41.987Z"
   },
   {
    "duration": 5128,
    "start_time": "2024-07-31T06:09:48.637Z"
   },
   {
    "duration": 524,
    "start_time": "2024-07-31T06:09:53.768Z"
   },
   {
    "duration": 249,
    "start_time": "2024-07-31T06:09:54.295Z"
   },
   {
    "duration": 5,
    "start_time": "2024-07-31T06:09:54.548Z"
   },
   {
    "duration": 84,
    "start_time": "2024-07-31T06:09:54.556Z"
   },
   {
    "duration": 18,
    "start_time": "2024-07-31T06:09:55.836Z"
   },
   {
    "duration": 1538,
    "start_time": "2024-07-31T06:12:07.639Z"
   },
   {
    "duration": 7,
    "start_time": "2024-07-31T06:13:14.448Z"
   },
   {
    "duration": 1409,
    "start_time": "2024-07-31T06:17:25.759Z"
   },
   {
    "duration": 436,
    "start_time": "2024-07-31T06:17:27.171Z"
   },
   {
    "duration": 228,
    "start_time": "2024-07-31T06:17:27.611Z"
   },
   {
    "duration": 5,
    "start_time": "2024-07-31T06:17:27.843Z"
   },
   {
    "duration": 84,
    "start_time": "2024-07-31T06:17:27.851Z"
   },
   {
    "duration": 102,
    "start_time": "2024-07-31T06:17:27.938Z"
   },
   {
    "duration": 1513,
    "start_time": "2024-07-31T06:17:28.043Z"
   },
   {
    "duration": 8,
    "start_time": "2024-07-31T06:17:29.564Z"
   }
  ],
  "kernelspec": {
   "display_name": "Python 3 (ipykernel)",
   "language": "python",
   "name": "python3"
  },
  "language_info": {
   "codemirror_mode": {
    "name": "ipython",
    "version": 3
   },
   "file_extension": ".py",
   "mimetype": "text/x-python",
   "name": "python",
   "nbconvert_exporter": "python",
   "pygments_lexer": "ipython3",
   "version": "3.10.11"
  },
  "toc": {
   "base_numbering": 1,
   "nav_menu": {},
   "number_sections": true,
   "sideBar": true,
   "skip_h1_title": true,
   "title_cell": "Table of Contents",
   "title_sidebar": "Contents",
   "toc_cell": false,
   "toc_position": {},
   "toc_section_display": true,
   "toc_window_display": false
  }
 },
 "nbformat": 4,
 "nbformat_minor": 5
}
